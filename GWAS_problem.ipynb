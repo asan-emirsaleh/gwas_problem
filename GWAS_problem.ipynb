{
  "nbformat": 4,
  "nbformat_minor": 0,
  "metadata": {
    "colab": {
      "name": "GWAS_problem.ipynb",
      "provenance": [],
      "collapsed_sections": [],
      "authorship_tag": "ABX9TyNjgQVnKSZTpn5N0bs634v7",
      "include_colab_link": true
    },
    "kernelspec": {
      "name": "python3",
      "display_name": "Python 3"
    },
    "accelerator": "GPU"
  },
  "cells": [
    {
      "cell_type": "markdown",
      "metadata": {
        "id": "view-in-github",
        "colab_type": "text"
      },
      "source": [
        "<a href=\"https://colab.research.google.com/github/vellamike/gwas_problem/blob/master/GWAS_problem.ipynb\" target=\"_parent\"><img src=\"https://colab.research.google.com/assets/colab-badge.svg\" alt=\"Open In Colab\"/></a>"
      ]
    },
    {
      "cell_type": "code",
      "metadata": {
        "id": "Bc3tq6mH2C-L",
        "colab_type": "code",
        "colab": {}
      },
      "source": [
        "import numpy as np\n",
        "from sklearn.preprocessing import normalize\n",
        "np.random.seed(2)"
      ],
      "execution_count": 0,
      "outputs": []
    },
    {
      "cell_type": "markdown",
      "metadata": {
        "id": "eW0G7tFP2Pxt",
        "colab_type": "text"
      },
      "source": [
        "# Simulate a set of variants and their associated phenotypes"
      ]
    },
    {
      "cell_type": "code",
      "metadata": {
        "id": "h2rvXZPw2T_x",
        "colab_type": "code",
        "colab": {}
      },
      "source": [
        "NUM_SAMPLES=5000\n",
        "NUM_VARIANTS=10000\n",
        "NUM_PHENOTYPES=100"
      ],
      "execution_count": 0,
      "outputs": []
    },
    {
      "cell_type": "code",
      "metadata": {
        "id": "PSlTFeZu2XvW",
        "colab_type": "code",
        "colab": {}
      },
      "source": [
        "def genotype_simulator(num_samples, num_variants=1000):\n",
        "    return np.random.randint(3, size=(num_samples, num_variants)).astype(np.float32)"
      ],
      "execution_count": 0,
      "outputs": []
    },
    {
      "cell_type": "code",
      "metadata": {
        "id": "NaMxw7qY2ZUG",
        "colab_type": "code",
        "colab": {}
      },
      "source": [
        "def phonetype_simulator(num_phenotypes, genotype):\n",
        "    \"\"\"\n",
        "    num_phenotypes = the total number of phenotypes per sample\n",
        "    genotype = a NxM matrix where N = number of individuals and M = number of variants. Values = 0 (no variant),1 (heterozygoys),2(homozygous)\n",
        "    \"\"\"\n",
        "    coeffs = np.random.normal(size=(genotype.shape[1], num_phenotypes))\n",
        "    coeffs -= coeffs.min()\n",
        "    phenotypes = genotype @ coeffs\n",
        "    phenotypes = normalize(phenotypes, axis=0, norm='max')\n",
        "    noise = np.random.uniform(0,0.3, size=(genotype.shape[0], num_phenotypes))\n",
        "    phenotypes += noise\n",
        "    phenotypes = normalize(phenotypes, axis=0, norm='max')\n",
        "    bias = np.random.uniform(-1.0,1.0,size=num_phenotypes)\n",
        "    phenotypes += bias\n",
        "    phenotypes = normalize(phenotypes, axis=0, norm='max')\n",
        "    return phenotypes.astype(np.float32)"
      ],
      "execution_count": 0,
      "outputs": []
    },
    {
      "cell_type": "code",
      "metadata": {
        "id": "YAF56v3a2a4C",
        "colab_type": "code",
        "outputId": "8cca2c33-104e-4775-a3cd-d6a4a5a815b4",
        "colab": {
          "base_uri": "https://localhost:8080/",
          "height": 34
        }
      },
      "source": [
        "genomes = genotype_simulator(NUM_SAMPLES, NUM_VARIANTS)\n",
        "print(genomes.shape)"
      ],
      "execution_count": 0,
      "outputs": [
        {
          "output_type": "stream",
          "text": [
            "(5000, 10000)\n"
          ],
          "name": "stdout"
        }
      ]
    },
    {
      "cell_type": "code",
      "metadata": {
        "id": "OF7QFvyh38Jp",
        "colab_type": "code",
        "outputId": "84f60c77-2236-461c-c45f-9d4e8ce4a37e",
        "colab": {
          "base_uri": "https://localhost:8080/",
          "height": 34
        }
      },
      "source": [
        "phenotypes = phonetype_simulator(NUM_PHENOTYPES, genomes)\n",
        "print(phenotypes.shape)"
      ],
      "execution_count": 0,
      "outputs": [
        {
          "output_type": "stream",
          "text": [
            "(5000, 100)\n"
          ],
          "name": "stdout"
        }
      ]
    },
    {
      "cell_type": "markdown",
      "metadata": {
        "id": "ws45HOKC4Pw2",
        "colab_type": "text"
      },
      "source": [
        "# Exercise\n",
        "1. Using pytorch, write a multivariate linear regression model for predicting phenotype from genotype. A good place to start is [here](https://towardsdatascience.com/linear-regression-with-pytorch-eb6dedead817)\n",
        "2. How does performance on GPU scale with number of samples and phenotypes?\n",
        "3. How does performance on GPU differ from CPU at different matrix sizes?\n",
        "4. Can this problem be solved using a DL model?"
      ]
    }
  ]
}